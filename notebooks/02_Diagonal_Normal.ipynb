{
 "cells": [
  {
   "cell_type": "markdown",
   "id": "eede308e",
   "metadata": {},
   "source": [
    "# Diagonal Gaussian - `diagnormal`"
   ]
  },
  {
   "cell_type": "code",
   "execution_count": 6,
   "id": "04f8e415",
   "metadata": {},
   "outputs": [
    {
     "data": {
      "text/plain": [
       "has_argument_grads (generic function with 1 method)"
      ]
     },
     "execution_count": 6,
     "metadata": {},
     "output_type": "execute_result"
    }
   ],
   "source": [
    "#nbx --fname=../src/diag_normal.jl\n",
    "using Gen\n",
    "\n",
    "struct DiagonalNormal <: Distribution{Vector{Float64}} end\n",
    "const diagnormal = DiagonalNormal()\n",
    "\n",
    "function random(::DiagonalNormal, mus::AbstractVector{U}, stds::AbstractVector{V}) where {U <: Real, V <: Real}\n",
    "    return [normal(mu, std) for (mu,std) in zip(mus, stds)]\n",
    "end\n",
    "\n",
    "function random(::DiagonalNormal, mus::AbstractVector{U}, std::V) where {U <: Real, V <: Real}\n",
    "    return [normal(mu, std) for mu in mus]\n",
    "end\n",
    "\n",
    "(::DiagonalNormal)(mus::AbstractVector{U}, stds::AbstractVector{V})  where {U <: Real, V <: Real} = random(DiagonalNormal(), mus, stds)\n",
    "(::DiagonalNormal)(mus::AbstractVector{U}, std::V)  where {U <: Real, V <: Real} = random(DiagonalNormal(), mus, std)\n",
    "\n",
    "\n",
    "function Gen.logpdf(::DiagonalNormal, xs::AbstractVector{T}, \n",
    "                mus::AbstractVector{U}, stds::AbstractVector{V}) where {T <: Real, U <: Real, V <: Real}\n",
    "    log_p = 0.0\n",
    "    for (x, mu, std) in zip(xs, mus, stds)\n",
    "        log_p += Gen.logpdf(normal, x, mu, std)\n",
    "    end\n",
    "    return log_p\n",
    "end\n",
    "\n",
    "function Gen.logpdf(::DiagonalNormal, xs::AbstractVector{T}, \n",
    "                mus::AbstractVector{U}, std::V) where {T <: Real, U <: Real, V <: Real}\n",
    "    log_p = 0.0\n",
    "    for (x, mu) in zip(xs, mus)\n",
    "        log_p += Gen.logpdf(normal, x, mu, std)\n",
    "    end\n",
    "    return log_p\n",
    "end\n",
    "\n",
    "\n",
    "has_output_grad(::DiagonalNormal) = true\n",
    "has_argument_grads(::DiagonalNormal) = (true, true)"
   ]
  },
  {
   "cell_type": "markdown",
   "id": "fb99c12d",
   "metadata": {},
   "source": [
    "## Benchmarks"
   ]
  },
  {
   "cell_type": "code",
   "execution_count": 2,
   "id": "419ea687",
   "metadata": {},
   "outputs": [
    {
     "name": "stdout",
     "output_type": "stream",
     "text": [
      "  4.615 μs (1 allocation: 7.94 KiB)\n",
      "  6.159 μs (0 allocations: 0 bytes)\n"
     ]
    }
   ],
   "source": [
    "using BenchmarkTools\n",
    "\n",
    "n    = 1_000\n",
    "mus  = rand(n);\n",
    "stds = ones(n);\n",
    "xs   = rand(n);\n",
    "\n",
    "@btime diagnormal($mus, $stds);\n",
    "@btime Gen.logpdf($diagnormal, $xs, $mus, $stds);"
   ]
  },
  {
   "cell_type": "code",
   "execution_count": 49,
   "id": "4f66c3cb",
   "metadata": {},
   "outputs": [
    {
     "name": "stdout",
     "output_type": "stream",
     "text": [
      "  10.599 ms (6 allocations: 15.27 MiB)\n",
      "  10.652 ms (7 allocations: 15.27 MiB)\n"
     ]
    }
   ],
   "source": [
    "using LinearAlgebra: diagm\n",
    "\n",
    "D = diagm(stds)\n",
    "@btime mvnormal($mus, $D);\n",
    "@btime logpdf($mvnormal, $xs, $mus, $D);"
   ]
  },
  {
   "cell_type": "code",
   "execution_count": 50,
   "id": "5c360992",
   "metadata": {},
   "outputs": [
    {
     "name": "stdout",
     "output_type": "stream",
     "text": [
      "  2.827 μs (2 allocations: 15.88 KiB)\n",
      "  7.831 μs (5 allocations: 39.69 KiB)\n"
     ]
    }
   ],
   "source": [
    "@btime broadcasted_normal($mus, $stds)\n",
    "@btime Gen.logpdf($broadcasted_normal, $xs, $mus, $stds);"
   ]
  },
  {
   "cell_type": "code",
   "execution_count": null,
   "id": "d54a6de1",
   "metadata": {},
   "outputs": [],
   "source": []
  }
 ],
 "metadata": {
  "kernelspec": {
   "display_name": "Julia 1.8.5",
   "language": "julia",
   "name": "julia-1.8"
  },
  "language_info": {
   "file_extension": ".jl",
   "mimetype": "application/julia",
   "name": "julia",
   "version": "1.8.5"
  },
  "toc": {
   "base_numbering": 1,
   "nav_menu": {},
   "number_sections": true,
   "sideBar": true,
   "skip_h1_title": false,
   "title_cell": "Table of Contents",
   "title_sidebar": "Contents",
   "toc_cell": false,
   "toc_position": {},
   "toc_section_display": true,
   "toc_window_display": false
  }
 },
 "nbformat": 4,
 "nbformat_minor": 5
}
