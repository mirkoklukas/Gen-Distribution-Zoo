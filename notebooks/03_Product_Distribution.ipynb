{
 "cells": [
  {
   "cell_type": "markdown",
   "id": "b517fc2d",
   "metadata": {},
   "source": [
    "# Product distribution"
   ]
  },
  {
   "cell_type": "code",
   "execution_count": 1,
   "id": "dc5912e7",
   "metadata": {},
   "outputs": [],
   "source": [
    "#nbx --fname=\"../src/product_dist.jl\"\n",
    "using Gen\n",
    "abstract type ProductDistribution{T} <: Distribution{Vector{T}} end"
   ]
  },
  {
   "cell_type": "code",
   "execution_count": 2,
   "id": "edf2df2b",
   "metadata": {},
   "outputs": [
    {
     "data": {
      "text/plain": [
       "mycat (generic function with 1 method)"
      ]
     },
     "execution_count": 2,
     "metadata": {},
     "output_type": "execute_result"
    }
   ],
   "source": [
    "#nbx\n",
    "function unsqueeze(a, d)\n",
    "        if ndims(a) == 0\n",
    "            return [a]\n",
    "        end\n",
    "        if d<0\n",
    "            d = ndims(a) - d\n",
    "        end\n",
    "        return reshape(a, (size(a)[1:d-1]..., 1, size(a)[d:end]...))\n",
    "end\n",
    "        \n",
    "function mycat(xs::Vector{T}; dims) where T\n",
    "    d = dims\n",
    "    if d<0\n",
    "        d = ndims(xs[1]) + d + 1\n",
    "    end   \n",
    "    return cat(xs...; dims=d)\n",
    "end"
   ]
  },
  {
   "cell_type": "markdown",
   "id": "baf9ced6",
   "metadata": {},
   "source": [
    "## Homogeneous Product"
   ]
  },
  {
   "cell_type": "code",
   "execution_count": 27,
   "id": "3dc11106",
   "metadata": {},
   "outputs": [],
   "source": [
    "#nbx\n",
    "struct HomogeneousProduct{T} <: ProductDistribution{T}\n",
    "    dist::Distribution{T}\n",
    "    n::Int\n",
    "    slicedim::Int  # indicates the dimension specifying \n",
    "                   # the arguments for each dist\n",
    "                   # Default is along 1st dimension - differs\n",
    "                   # from Gen's mixtures.\n",
    "end\n",
    "ProductDistribution(dist::Distribution{T}, n::Int, s::Int) where T = HomogeneousProduct{T}(dist, n, s)\n",
    "ProductDistribution(dist::Distribution{T}, n::Int)         where T = HomogeneousProduct{T}(dist, n, 1)\n",
    "\n",
    "\n",
    "function slicedim(a, d::Int, i::Int) \n",
    "    return ndims(a) == 1 ? a[i] : selectdim(a, d > 0 ? d : ndims(a)+d+1, i)\n",
    "end\n",
    "\n",
    "function Gen.random(Q::HomogeneousProduct, args...)\n",
    "    p = Q.dist\n",
    "    n = Q.n\n",
    "    d = Q.slicedim\n",
    "    \n",
    "    ys = [p((slicedim(a, d, i) for a in args)...) for i=1:n] \n",
    "    \n",
    "    if d == 1 return ys end\n",
    "        \n",
    "    # This part slows it down quite a lot\n",
    "    # but technically is necessary to logpdf eval \n",
    "    # actual samples \n",
    "    ys = [\n",
    "        unsqueeze(y, d) for y in ys\n",
    "    ]\n",
    "    ys = mycat(ys, dims=d)\n",
    "    return ys\n",
    "end\n",
    "\n",
    "(Q::HomogeneousProduct)(args...) = Gen.random(Q, args...)\n",
    "\n",
    "function Gen.logpdf(Q::HomogeneousProduct{T}, xs, args...) where T\n",
    "    p = Q.dist\n",
    "    n = Q.n\n",
    "    d = Q.slicedim\n",
    "    return sum([\n",
    "        Gen.logpdf(p, slicedim(xs, d, i), (slicedim(a, d, i) for a in args)...) for i=1:n\n",
    "    ])\n",
    "end\n",
    "    \n",
    "function Gen.logpdf_grad(Q::HomogeneousProduct{T}, xs, args...) where T\n",
    "\n",
    "    p = Q.dist\n",
    "    n = Q.n\n",
    "    d = Q.slicedim\n",
    "    k = length(args) + 1\n",
    "    grads = [\n",
    "        Gen.logpdf_grad(p, slicedim(xs, d, i), (slicedim(a, d, i) for a in args)...) for i=1:n\n",
    "    ]\n",
    "    grad_slices = [\n",
    "        [unsqueeze(grads[i][j], d) for i=1:n] for j=1:k\n",
    "    ]    \n",
    "    rearranged_grads = [\n",
    "        mycat(slice,dims=d) for slice in grad_slices\n",
    "    ]\n",
    "\n",
    "    return rearranged_grads\n",
    "end\n",
    "\n",
    "Gen.has_output_grad(Q::HomogeneousProduct)    = has_output_grad(Q.dist)\n",
    "Gen.has_argument_grads(Q::HomogeneousProduct) = Tuple([Gen.has_argument_grads(Q.dist) for i=1:Q.n])"
   ]
  },
  {
   "cell_type": "code",
   "execution_count": 28,
   "id": "addc6a4f",
   "metadata": {},
   "outputs": [
    {
     "name": "stdout",
     "output_type": "stream",
     "text": [
      "sample: \n",
      "\t[-0.5657392545685711, 0.4002711146745374, -0.01405309766505402, 0.39396560148883614, 0.010278143989848665]\n",
      "log_p: \n",
      "\t2.888574361097689\n",
      "Gradient OK? \n",
      "\ttrue\n"
     ]
    }
   ],
   "source": [
    "using ForwardDiff: gradient\n",
    "import Distributions\n",
    "\n",
    "n = 5\n",
    "Q = ProductDistribution(normal, n)\n",
    "mus  = rand(n)\n",
    "stds = rand(n)\n",
    "\n",
    "xs = Q(mus, stds)\n",
    "log_p = logpdf(Q, xs, mus, stds)\n",
    "log_p_grad = logpdf_grad(Q, xs, mus, stds)\n",
    "\n",
    "println(\"sample: \\n\\t\", xs);\n",
    "println(\"log_p: \\n\\t\", log_p);\n",
    "\n",
    "# Gradient reality check\n",
    "v = [xs;mus;stds]\n",
    "func = v -> Gen.logpdf(Q, v[1:n],v[n+1:2*n],v[2*n+1:3*n])\n",
    "gr = gradient(func, v)\n",
    "gr = [gr[1:n],gr[n+1:2*n],gr[2*n+1:3*n]]\n",
    "\n",
    "println(\"Gradient OK? \\n\\t\"  ,isapprox(log_p_grad , gr))"
   ]
  },
  {
   "cell_type": "code",
   "execution_count": 38,
   "id": "d5a721f9",
   "metadata": {},
   "outputs": [
    {
     "name": "stdout",
     "output_type": "stream",
     "text": [
      "(2, 2)\n",
      "(2, 2)(2, 2)(2, 2, 2)\n"
     ]
    }
   ],
   "source": [
    "Q = ProductDistribution(mvnormal, 2, -1)\n",
    "means = cat([-10.0, -10.0], [10.0, 10.0], dims=2)\n",
    "covs  = cat([1.0 0.0; 0.0 1.0], [10.0 0.0; 0.0 10.0], dims=3)\n",
    "samples = Q(means, covs)\n",
    "gr = logpdf_grad(Q, samples, means, covs)\n",
    "\n",
    "println(size(samples))\n",
    "println([size(g) for g in gr]...)"
   ]
  },
  {
   "cell_type": "code",
   "execution_count": 39,
   "id": "3da96443",
   "metadata": {},
   "outputs": [
    {
     "name": "stdout",
     "output_type": "stream",
     "text": [
      "(2,)\n",
      "(2, 2)(2, 2)(2, 2, 2)\n"
     ]
    }
   ],
   "source": [
    "Q = ProductDistribution(mvnormal, 2)\n",
    "means = [[-10.0, -10.0], [10.0, 10.0]]\n",
    "covs  = [[1.0 0.0; 0.0 1.0], [10.0 0.0; 0.0 10.0]]\n",
    "samples = Q(means, covs)\n",
    "gr = logpdf_grad(Q, samples, means, covs)\n",
    "\n",
    "println(size(samples))\n",
    "println([size(g) for g in gr]...)"
   ]
  },
  {
   "cell_type": "code",
   "execution_count": 31,
   "id": "b29fe312",
   "metadata": {},
   "outputs": [
    {
     "name": "stdout",
     "output_type": "stream",
     "text": [
      "  5.370 μs (8 allocations: 8.17 KiB)\n",
      "  8.992 μs (6 allocations: 8.12 KiB)\n"
     ]
    }
   ],
   "source": [
    "using BenchmarkTools\n",
    "\n",
    "n = 1_000\n",
    "Q = ProductDistribution(normal, n)\n",
    "mus  = rand(n)\n",
    "stds = rand(n)\n",
    "xs   = rand(n)\n",
    "\n",
    "@btime Q($mus, $stds);\n",
    "@btime Gen.logpdf($Q, $xs,  $mus, $stds);"
   ]
  },
  {
   "cell_type": "code",
   "execution_count": 32,
   "id": "0fb587d9",
   "metadata": {},
   "outputs": [
    {
     "name": "stdout",
     "output_type": "stream",
     "text": [
      "  5.949 ns (0 allocations: 0 bytes)\n",
      "  8.546 ns (0 allocations: 0 bytes)\n"
     ]
    }
   ],
   "source": [
    "@btime normal($mus[1], $stds[1]);\n",
    "@btime Gen.logpdf($normal, $xs[1],  $mus[1], $stds[1]);"
   ]
  },
  {
   "cell_type": "markdown",
   "id": "4b3a7a69",
   "metadata": {},
   "source": [
    "## Heterogeneous Product"
   ]
  },
  {
   "cell_type": "code",
   "execution_count": 40,
   "id": "7c910b2d",
   "metadata": {},
   "outputs": [],
   "source": [
    "struct HeterogeneousProduct{T} <: ProductDistribution{T}\n",
    "    dists::Vector{D where D <: Distribution{T}}\n",
    "    n::Int\n",
    "    slicedim::Int\n",
    "end\n",
    "ProductDistribution(ds::Vector{D}, s::Int) where {T, D <: Distribution{T}} = HeterogeneousProduct{T}(ds, length(ds), s)\n",
    "ProductDistribution(ds::Vector{D})         where {T, D <: Distribution{T}} = HeterogeneousProduct{T}(ds, length(ds), 1)\n",
    "\n",
    "\n",
    "slicedim(a, d::Int, i::Int) = selectdim(a, d > 0 ? d : ndims(a)+d+1, i)\n",
    "function Gen.random(Q::HeterogeneousProduct{T}, args...) where T\n",
    "    n = Q.n\n",
    "    s = Q.slicedim\n",
    "    return [Q.dists[i]((ndims(a) == 1 ? a[i] : slicedim(a,s, i) for a in args)...) for i=1:n]\n",
    "end\n",
    "\n",
    "(Q::HeterogeneousProduct)(args...) = Gen.random(Q, args...)\n",
    "\n",
    "\n",
    "function Gen.logpdf(Q::HeterogeneousProduct{T}, xs::Vector{T}, args...) where T\n",
    "    p = Q.dists\n",
    "    n = Q.n\n",
    "    d = Q.slicedim\n",
    "    return sum([\n",
    "        Gen.logpdf(p[i], xs[i], (ndims(a) == 1 ? a[i] : slicedim(a, d, i) for a in args)...) for i=1:n\n",
    "    ])\n",
    "end\n",
    "\n",
    "    \n",
    "function Gen.logpdf_grad(Q::HeterogeneousProduct{T}, xs::Vector{T}, args...) where T\n",
    "    p = Q.dists\n",
    "    n = Q.n\n",
    "    d = Q.slicedim\n",
    "    return sum([\n",
    "        Gen.logpdf_grad(p[i], xs[i], (ndims(a) == 1 ? a[i] : slicedim(a, d, i) for a in args)...) for i=1:n\n",
    "    ])\n",
    "end\n",
    "        \n",
    "Gen.has_output_grad(Q::HeterogeneousProduct)    = has_output_grad(Q.dist)\n",
    "Gen.has_argument_grads(Q::HeterogeneousProduct) = Tuple([Gen.has_argument_grads(Q.dist) for i=1:Q.n])"
   ]
  },
  {
   "cell_type": "code",
   "execution_count": 11,
   "id": "838a4907",
   "metadata": {},
   "outputs": [
    {
     "name": "stdout",
     "output_type": "stream",
     "text": [
      "  151.080 μs (6006 allocations: 164.38 KiB)\n",
      "  45.289 μs (4004 allocations: 70.53 KiB)\n"
     ]
    }
   ],
   "source": [
    "using BenchmarkTools\n",
    "\n",
    "n = 1_000\n",
    "Q = ProductDistribution([normal for i=1:n])\n",
    "mus  = rand(n)\n",
    "stds = rand(n)\n",
    "xs   = rand(n)\n",
    "\n",
    "@btime Q($mus, $stds);\n",
    "@btime Gen.logpdf($Q, $xs,  $mus, $stds);"
   ]
  },
  {
   "cell_type": "markdown",
   "id": "23b74ad8",
   "metadata": {},
   "source": [
    "## Old Version"
   ]
  },
  {
   "cell_type": "code",
   "execution_count": 1,
   "id": "6f65de27",
   "metadata": {},
   "outputs": [],
   "source": [
    "using Gen\n",
    "\n",
    "struct ProductDistribution{T} <: Distribution{Vector{T}}\n",
    "    dist::Distribution{T}\n",
    "    n::Int\n",
    "end\n",
    "\n",
    "\n",
    "# Todo: Specify that args needs to be \"zippable\"\n",
    "function Gen.random(Q::ProductDistribution, args_vec...)\n",
    "    p = Q.dist\n",
    "    return [p(args...) for args in zip(args_vec...)]\n",
    "end\n",
    "\n",
    "\n",
    "(Q::ProductDistribution)(args_vec::AbstractVector...) = Gen.random(Q::ProductDistribution, args_vec...)\n",
    "\n",
    "function Gen.logpdf(Q::ProductDistribution{T}, xs::Vector{T}, args_vec::AbstractVector...) where T\n",
    "    p = Q.dist\n",
    "    # \"for loop\" implementation seems slower, according to benchmarktools\n",
    "    # Don't know why really, doesn't seem to be that way in `diagnorm`\n",
    "    return sum([Gen.logpdf(p, x, args...) for (x, args...) in zip(xs, args_vec...)])\n",
    "end\n",
    "\n",
    "\n",
    "\n",
    "Gen.has_output_grad(Q::ProductDistribution)    = has_output_grad(Q.dist)\n",
    "Gen.has_argument_grads(Q::ProductDistribution) = Tuple([Gen.has_argument_grads(Q.dist) for i=1:Q.n])"
   ]
  },
  {
   "cell_type": "code",
   "execution_count": 2,
   "id": "0d0e71c1",
   "metadata": {},
   "outputs": [
    {
     "name": "stdout",
     "output_type": "stream",
     "text": [
      "  5.037 μs (6 allocations: 8.09 KiB)\n",
      "  9.204 μs (4 allocations: 8.02 KiB)\n"
     ]
    }
   ],
   "source": [
    "using BenchmarkTools\n",
    "\n",
    "n = 1_000\n",
    "Q = ProductDistribution(normal, n)\n",
    "mus  = rand(n)\n",
    "stds = rand(n)\n",
    "xs   = rand(n)\n",
    "\n",
    "@btime Q($mus, $stds);\n",
    "@btime Gen.logpdf($Q, $xs,  $mus, $stds);"
   ]
  }
 ],
 "metadata": {
  "@webio": {
   "lastCommId": null,
   "lastKernelId": null
  },
  "kernelspec": {
   "display_name": "Julia 1.8.5",
   "language": "julia",
   "name": "julia-1.8"
  },
  "language_info": {
   "file_extension": ".jl",
   "mimetype": "application/julia",
   "name": "julia",
   "version": "1.8.5"
  },
  "toc": {
   "base_numbering": 1,
   "nav_menu": {},
   "number_sections": true,
   "sideBar": true,
   "skip_h1_title": false,
   "title_cell": "Table of Contents",
   "title_sidebar": "Contents",
   "toc_cell": false,
   "toc_position": {
    "height": "calc(100% - 180px)",
    "left": "10px",
    "top": "150px",
    "width": "321.594px"
   },
   "toc_section_display": true,
   "toc_window_display": true
  }
 },
 "nbformat": 4,
 "nbformat_minor": 5
}
