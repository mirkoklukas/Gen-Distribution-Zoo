{
 "cells": [
  {
   "cell_type": "markdown",
   "id": "b517fc2d",
   "metadata": {},
   "source": [
    "# Product distribution"
   ]
  },
  {
   "cell_type": "code",
   "execution_count": 7,
   "id": "6f65de27",
   "metadata": {},
   "outputs": [],
   "source": [
    "#nbx --fname=\"../src/product_dist.jl\"\n",
    "using Gen\n",
    "\n",
    "struct ProductDistribution{T} <: Distribution{Vector{T  where T}}\n",
    "    dist::Distribution{T}\n",
    "end\n",
    "function Gen.random(Q::ProductDistribution, args_vec::AbstractVector...)\n",
    "    p = Q.dist\n",
    "    return [p(args...) for args in zip(args_vec...)]\n",
    "end\n",
    "(Q::ProductDistribution)(args_vec::AbstractVector...) = Gen.random(Q::ProductDistribution, args_vec...)\n",
    "\n",
    "function Gen.logpdf(Q::ProductDistribution{T}, xs::Vector{T}, args_vec::AbstractVector...) where T\n",
    "    log_p = 0.0\n",
    "    p = Q.dist\n",
    "    # \"for loop\" implementation seems slower, according to benchmarktools\n",
    "    # Don't know why really, doesn't seem to be that way in `diagnorm`\n",
    "    return sum([Gen.logpdf(p, x, args...) for (x, args...) in zip(xs, args_vec...)])\n",
    "end\n",
    "\n",
    "Gen.has_output_grad(Q::ProductDistribution)    = has_output_grad(Q.dist)\n",
    "Gen.has_argument_grads(Q::ProductDistribution) = Gen.has_argument_grads(Q.dist)"
   ]
  },
  {
   "cell_type": "code",
   "execution_count": 5,
   "id": "0d0e71c1",
   "metadata": {},
   "outputs": [
    {
     "name": "stdout",
     "output_type": "stream",
     "text": [
      "  5.167 μs (6 allocations: 8.06 KiB)\n",
      "  9.309 μs (4 allocations: 8.02 KiB)\n"
     ]
    }
   ],
   "source": [
    "using BenchmarkTools\n",
    "\n",
    "Q = ProductDistribution(normal)\n",
    "mus  = rand(1_000)\n",
    "stds = rand(1_000)\n",
    "xs   = rand(1_000)\n",
    "\n",
    "@btime Q($mus, $stds);\n",
    "@btime Gen.logpdf($Q, $xs,  $mus, $stds);"
   ]
  },
  {
   "cell_type": "code",
   "execution_count": null,
   "id": "59d9dda0",
   "metadata": {},
   "outputs": [],
   "source": []
  }
 ],
 "metadata": {
  "kernelspec": {
   "display_name": "Julia 1.8.5",
   "language": "julia",
   "name": "julia-1.8"
  },
  "language_info": {
   "file_extension": ".jl",
   "mimetype": "application/julia",
   "name": "julia",
   "version": "1.8.5"
  },
  "toc": {
   "base_numbering": 1,
   "nav_menu": {},
   "number_sections": true,
   "sideBar": true,
   "skip_h1_title": false,
   "title_cell": "Table of Contents",
   "title_sidebar": "Contents",
   "toc_cell": false,
   "toc_position": {},
   "toc_section_display": true,
   "toc_window_display": false
  }
 },
 "nbformat": 4,
 "nbformat_minor": 5
}
