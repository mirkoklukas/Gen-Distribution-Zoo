{
 "cells": [
  {
   "cell_type": "code",
   "execution_count": 11,
   "id": "b87804eb",
   "metadata": {},
   "outputs": [
    {
     "name": "stdout",
     "output_type": "stream",
     "text": [
      "GenDists.jl\n",
      "diag_normal.jl\n",
      "product_dist.jl\n",
      "push_forward.jl\n"
     ]
    }
   ],
   "source": [
    "path = \"../src\"\n",
    "push!(LOAD_PATH, path);\n",
    "run(`ls $path`);"
   ]
  },
  {
   "cell_type": "code",
   "execution_count": 13,
   "id": "9975294f",
   "metadata": {},
   "outputs": [],
   "source": [
    "#nbx --fname=../src/GenDists.jl --jl_module=GenDists\n",
    "using Gen\n",
    "\n",
    "include(\"../src/push_forward.jl\")\n",
    "include(\"../src/diag_normal.jl\")\n",
    "include(\"../src/product_dist.jl\")"
   ]
  },
  {
   "cell_type": "markdown",
   "id": "fced6015",
   "metadata": {},
   "source": [
    "# Testing"
   ]
  },
  {
   "cell_type": "code",
   "execution_count": 17,
   "id": "a5a2b594",
   "metadata": {},
   "outputs": [
    {
     "name": "stdout",
     "output_type": "stream",
     "text": [
      "  4.727 μs (1 allocation: 7.94 KiB)\n"
     ]
    },
    {
     "name": "stderr",
     "output_type": "stream",
     "text": [
      "WARNING: import of GenDists.diagnormal into Main conflicts with an existing identifier; ignored.\n"
     ]
    },
    {
     "name": "stdout",
     "output_type": "stream",
     "text": [
      "  5.867 μs (0 allocations: 0 bytes)\n"
     ]
    }
   ],
   "source": [
    "using BenchmarkTools\n",
    "using GenDists: diagnormal\n",
    "\n",
    "n    = 1_000\n",
    "mus  = rand(n);\n",
    "stds = ones(n);\n",
    "xs   = rand(n);\n",
    "\n",
    "@btime diagnormal($mus, $stds);\n",
    "@btime Gen.logpdf($diagnormal, $xs, $mus, $stds);"
   ]
  },
  {
   "cell_type": "code",
   "execution_count": null,
   "id": "6a299ecd",
   "metadata": {},
   "outputs": [],
   "source": []
  }
 ],
 "metadata": {
  "kernelspec": {
   "display_name": "Julia 1.8.5",
   "language": "julia",
   "name": "julia-1.8"
  },
  "language_info": {
   "file_extension": ".jl",
   "mimetype": "application/julia",
   "name": "julia",
   "version": "1.8.5"
  },
  "toc": {
   "base_numbering": 1,
   "nav_menu": {},
   "number_sections": true,
   "sideBar": true,
   "skip_h1_title": false,
   "title_cell": "Table of Contents",
   "title_sidebar": "Contents",
   "toc_cell": false,
   "toc_position": {},
   "toc_section_display": true,
   "toc_window_display": false
  }
 },
 "nbformat": 4,
 "nbformat_minor": 5
}
